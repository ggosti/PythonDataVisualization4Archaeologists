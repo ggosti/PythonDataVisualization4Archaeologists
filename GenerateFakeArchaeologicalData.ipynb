{
  "nbformat": 4,
  "nbformat_minor": 0,
  "metadata": {
    "colab": {
      "provenance": [],
      "mount_file_id": "1ik5n-IwVz2J4gPdZbQ9bpNbHg54lBuD7",
      "authorship_tag": "ABX9TyNaGHPXexQQYgZuVp4tPIP/",
      "include_colab_link": true
    },
    "kernelspec": {
      "name": "python3",
      "display_name": "Python 3"
    },
    "language_info": {
      "name": "python"
    }
  },
  "cells": [
    {
      "cell_type": "markdown",
      "metadata": {
        "id": "view-in-github",
        "colab_type": "text"
      },
      "source": [
        "<a href=\"https://colab.research.google.com/github/ggosti/PythonDataVisualization4Archaeologists/blob/main/GenerateFakeArchaeologicalData.ipynb\" target=\"_parent\"><img src=\"https://colab.research.google.com/assets/colab-badge.svg\" alt=\"Open In Colab\"/></a>"
      ]
    },
    {
      "cell_type": "code",
      "source": [
        "from google.colab import drive\n",
        "drive.mount('/content/drive')"
      ],
      "metadata": {
        "id": "1QrknkLnAyYg"
      },
      "execution_count": null,
      "outputs": []
    },
    {
      "cell_type": "code",
      "source": [
        "%ls"
      ],
      "metadata": {
        "id": "7M7ZxOPGBVUb"
      },
      "execution_count": null,
      "outputs": []
    },
    {
      "cell_type": "code",
      "source": [
        "%cd /content/drive/MyDrive/LaboratorioPythonDataVisualization4Archaeologists/"
      ],
      "metadata": {
        "id": "L7RRRA7LB_mn"
      },
      "execution_count": null,
      "outputs": []
    },
    {
      "cell_type": "code",
      "source": [
        "import pandas as pd\n",
        "import numpy as np"
      ],
      "metadata": {
        "id": "o2Od1prEAThW"
      },
      "execution_count": null,
      "outputs": []
    },
    {
      "cell_type": "code",
      "execution_count": null,
      "metadata": {
        "id": "_lZSJNJG_bh7"
      },
      "outputs": [],
      "source": [
        "# Define possible values for each column\n",
        "artifact_types = ['Pottery', 'Tool', 'Jewelry', 'Weapon', 'Statue']\n",
        "sites = ['Pompeii', 'Stonehenge', 'Machu Picchu', 'Giza', 'Tikal']\n",
        "num_records = 100  # Number of records to generate\n",
        "conditions = ['Excellent', 'Good', 'Fair', 'Excellent', 'Poor']\n",
        "\n",
        "# Generate random data\n",
        "np.random.seed(42)  # For reproducibility\n",
        "data = {\n",
        "    'Artifact_Type': np.random.choice(artifact_types, num_records),\n",
        "    'Age': np.random.randint(100, 5000, num_records),  # Age in years\n",
        "    'Site': np.random.choice(sites, num_records),\n",
        "    'Condition': np.random.choice(conditions, num_records)\n",
        "}\n",
        "\n",
        "# Create DataFrame\n",
        "df = pd.DataFrame(data)\n",
        "\n",
        "# Display the first few rows\n",
        "print(df.head())\n",
        "\n",
        "# Save to a CSV file (optional)\n",
        "df.to_csv('fake_archaeological_data.csv', index=False)"
      ]
    },
    {
      "cell_type": "code",
      "source": [
        "df"
      ],
      "metadata": {
        "id": "jc9NRuYCAQYa"
      },
      "execution_count": null,
      "outputs": []
    },
    {
      "cell_type": "code",
      "source": [],
      "metadata": {
        "id": "STTQ87QTARkp"
      },
      "execution_count": null,
      "outputs": []
    },
    {
      "cell_type": "code",
      "source": [],
      "metadata": {
        "id": "RpaHxh5uDUCa"
      },
      "execution_count": null,
      "outputs": []
    }
  ]
}