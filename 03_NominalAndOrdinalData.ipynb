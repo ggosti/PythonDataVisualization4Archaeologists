{
  "nbformat": 4,
  "nbformat_minor": 0,
  "metadata": {
    "colab": {
      "provenance": [],
      "authorship_tag": "ABX9TyOpKaMywSgN4MLFJL7yy6v0",
      "include_colab_link": true
    },
    "kernelspec": {
      "name": "python3",
      "display_name": "Python 3"
    },
    "language_info": {
      "name": "python"
    }
  },
  "cells": [
    {
      "cell_type": "markdown",
      "metadata": {
        "id": "view-in-github",
        "colab_type": "text"
      },
      "source": [
        "<a href=\"https://colab.research.google.com/github/ggosti/PythonDataVisualization4Archaeologists/blob/main/03_NominalAndOrdinalData.ipynb\" target=\"_parent\"><img src=\"https://colab.research.google.com/assets/colab-badge.svg\" alt=\"Open In Colab\"/></a>"
      ]
    },
    {
      "cell_type": "markdown",
      "source": [
        "## Import Modules"
      ],
      "metadata": {
        "id": "6_jZ8KTX7JbR"
      }
    },
    {
      "cell_type": "code",
      "execution_count": null,
      "metadata": {
        "id": "yFB30O926cKh"
      },
      "outputs": [],
      "source": [
        "import pandas as pd\n",
        "import numpy as np\n",
        "import matplotlib.pyplot as plt"
      ]
    },
    {
      "cell_type": "markdown",
      "source": [
        "## Load Data"
      ],
      "metadata": {
        "id": "DsXwhJkj7HO5"
      }
    },
    {
      "cell_type": "code",
      "source": [
        "df = pd.read_csv('fake_archaeological_data.csv')"
      ],
      "metadata": {
        "id": "kSMuJp3v69CN"
      },
      "execution_count": null,
      "outputs": []
    },
    {
      "cell_type": "markdown",
      "source": [
        "# Nominal Data"
      ],
      "metadata": {
        "id": "o-Os2mBV7CHe"
      }
    },
    {
      "cell_type": "markdown",
      "source": [
        "## Bar Chart"
      ],
      "metadata": {
        "id": "pixLDXLwQ7DT"
      }
    },
    {
      "cell_type": "code",
      "source": [
        "# Count the occurrences of each category\n",
        "artifact_counts = df['Artifact_Type'].value_counts()\n",
        "\n",
        "# Create a bar chart\n",
        "#artifact_counts.plot(kind='bar', color='skyblue')\n",
        "plt.figure()\n",
        "plt.bar(artifact_counts.index,artifact_counts, color='skyblue')\n",
        "plt.title('Distribution of Artifact Types')\n",
        "plt.xlabel('Artifact Type')\n",
        "plt.ylabel('Count')\n",
        "plt.show()"
      ],
      "metadata": {
        "id": "UxbrgaTrQS5u"
      },
      "execution_count": null,
      "outputs": []
    },
    {
      "cell_type": "code",
      "source": [
        "artifact_counts.index"
      ],
      "metadata": {
        "id": "ztfBKXHNRrHf"
      },
      "execution_count": null,
      "outputs": []
    },
    {
      "cell_type": "markdown",
      "source": [
        "## Pie Chart"
      ],
      "metadata": {
        "id": "0yswC53kRHYN"
      }
    },
    {
      "cell_type": "code",
      "source": [
        "fig, ax = plt.subplots(figsize=(6, 3), subplot_kw=dict(aspect=\"equal\"))\n",
        "wedges, texts = ax.pie(artifact_counts,labels=artifact_counts.index)\n",
        "ax.set_title(\"Artifact pie chart\")\n",
        "plt.show()"
      ],
      "metadata": {
        "id": "NuuRB7XEQpTP"
      },
      "execution_count": null,
      "outputs": []
    },
    {
      "cell_type": "markdown",
      "source": [
        "# Ordinal Data"
      ],
      "metadata": {
        "id": "BHZtRQtpTGJD"
      }
    },
    {
      "cell_type": "markdown",
      "source": [
        "## Ordered Bar Chart"
      ],
      "metadata": {
        "id": "HdYjA4DRVFu1"
      }
    },
    {
      "cell_type": "code",
      "source": [
        "# Define the order of categories\n",
        "condition_order = ['Poor', 'Fair', 'Good', 'Excellent']\n",
        "\n",
        "# Count the occurrences of each category\n",
        "condition_counts = df['Condition'].value_counts().reindex(condition_order)\n",
        "\n",
        "# Create a bar chart\n",
        "#condition_counts.plot(kind='bar', color='skyblue')\n",
        "plt.figure()\n",
        "plt.bar(condition_counts.index,condition_counts)\n",
        "plt.title('Distribution of Artifact Conditions')\n",
        "plt.xlabel('Condition')\n",
        "plt.ylabel('Count')\n",
        "plt.xticks(rotation=0)\n",
        "plt.show()"
      ],
      "metadata": {
        "id": "rn2ODQmaSz0U"
      },
      "execution_count": null,
      "outputs": []
    }
  ]
}