{
  "nbformat": 4,
  "nbformat_minor": 0,
  "metadata": {
    "colab": {
      "provenance": [],
      "authorship_tag": "ABX9TyM1jWy1n1+MPEzTWXzG1HUF",
      "include_colab_link": true
    },
    "kernelspec": {
      "name": "python3",
      "display_name": "Python 3"
    },
    "language_info": {
      "name": "python"
    }
  },
  "cells": [
    {
      "cell_type": "markdown",
      "metadata": {
        "id": "view-in-github",
        "colab_type": "text"
      },
      "source": [
        "<a href=\"https://colab.research.google.com/github/ggosti/PythonDataVisualization4Archaeologists/blob/main/BasicPandas.ipynb\" target=\"_parent\"><img src=\"https://colab.research.google.com/assets/colab-badge.svg\" alt=\"Open In Colab\"/></a>"
      ]
    },
    {
      "cell_type": "code",
      "source": [
        "from google.colab import drive\n",
        "drive.mount('/content/drive')"
      ],
      "metadata": {
        "colab": {
          "base_uri": "https://localhost:8080/"
        },
        "id": "843qNTlnFyJx",
        "outputId": "e5146fbc-29b1-42e4-e03b-bb41a898202d"
      },
      "execution_count": 3,
      "outputs": [
        {
          "output_type": "stream",
          "name": "stdout",
          "text": [
            "Drive already mounted at /content/drive; to attempt to forcibly remount, call drive.mount(\"/content/drive\", force_remount=True).\n"
          ]
        }
      ]
    },
    {
      "cell_type": "code",
      "source": [
        "%cd /content/drive/MyDrive/LaboratorioPythonDataVisualization4Archaeologists/"
      ],
      "metadata": {
        "colab": {
          "base_uri": "https://localhost:8080/"
        },
        "id": "uN9-Lj8mG5nV",
        "outputId": "03a23d5b-440d-4c17-a2d1-7f9fb063e15a"
      },
      "execution_count": 4,
      "outputs": [
        {
          "output_type": "stream",
          "name": "stdout",
          "text": [
            "/content/drive/MyDrive/LaboratorioPythonDataVisualization4Archaeologists\n"
          ]
        }
      ]
    },
    {
      "cell_type": "code",
      "source": [
        "%ls"
      ],
      "metadata": {
        "colab": {
          "base_uri": "https://localhost:8080/"
        },
        "id": "jDafTevmHAh0",
        "outputId": "5f50f77c-4be9-4515-fece-bef15996fb2c"
      },
      "execution_count": 5,
      "outputs": [
        {
          "output_type": "stream",
          "name": "stdout",
          "text": [
            "fake_archaeological_data.csv  GenerateFakeArchaeologicalData.ipynb  Untitled0.ipynb\n"
          ]
        }
      ]
    },
    {
      "cell_type": "code",
      "source": [
        "import pandas as pd\n",
        "import numpy as np"
      ],
      "metadata": {
        "id": "XphXfxEYHG2v"
      },
      "execution_count": 6,
      "outputs": []
    },
    {
      "cell_type": "markdown",
      "source": [
        "# Load the Data"
      ],
      "metadata": {
        "id": "8No3uVD4GumR"
      }
    },
    {
      "cell_type": "code",
      "execution_count": 7,
      "metadata": {
        "id": "FYqXZ5SkFu_0"
      },
      "outputs": [],
      "source": [
        "df = pd.read_csv('fake_archaeological_data.csv')"
      ]
    },
    {
      "cell_type": "code",
      "source": [],
      "metadata": {
        "id": "5d_2QM-_G3p6"
      },
      "execution_count": null,
      "outputs": []
    },
    {
      "cell_type": "markdown",
      "source": [
        "# View Basic Information"
      ],
      "metadata": {
        "id": "uE6wZ13EHLPp"
      }
    },
    {
      "cell_type": "code",
      "source": [],
      "metadata": {
        "id": "1ZkxjBCHHwo3"
      },
      "execution_count": null,
      "outputs": []
    },
    {
      "cell_type": "code",
      "source": [],
      "metadata": {
        "id": "MiE_yGCJHxlc"
      },
      "execution_count": null,
      "outputs": []
    },
    {
      "cell_type": "markdown",
      "source": [
        "# Filter Findings by Site"
      ],
      "metadata": {
        "id": "G_xHB4NcHymh"
      }
    },
    {
      "cell_type": "code",
      "source": [
        "site_findings =\n",
        "print(site_findings)"
      ],
      "metadata": {
        "id": "Frryqu5pH17f"
      },
      "execution_count": null,
      "outputs": []
    },
    {
      "cell_type": "code",
      "source": [],
      "metadata": {
        "id": "HMk9yEZIH2ht"
      },
      "execution_count": null,
      "outputs": []
    },
    {
      "cell_type": "markdown",
      "source": [
        "# Group Data by Artifact Type"
      ],
      "metadata": {
        "id": "e9_40HT8H2xy"
      }
    },
    {
      "cell_type": "code",
      "source": [
        "artifact_counts = df['Artifact_Type'].value_counts()\n",
        "print(artifact_counts)"
      ],
      "metadata": {
        "id": "4eRwMjvuH7A0"
      },
      "execution_count": 7,
      "outputs": []
    },
    {
      "cell_type": "markdown",
      "source": [
        "# Calculate Average Age of Findings"
      ],
      "metadata": {
        "id": "SDfTAscWIKXV"
      }
    },
    {
      "cell_type": "code",
      "source": [
        "average_age = df['Age'].mean()\n",
        "print(f\"The average age of findings is {average_age:.2f} years.\")"
      ],
      "metadata": {
        "id": "KpeiwgBjILQl"
      },
      "execution_count": null,
      "outputs": []
    }
  ]
}